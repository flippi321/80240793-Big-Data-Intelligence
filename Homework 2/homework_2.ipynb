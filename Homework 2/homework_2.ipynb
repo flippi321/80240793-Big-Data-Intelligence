{
 "cells": [
  {
   "cell_type": "code",
   "execution_count": 31,
   "metadata": {},
   "outputs": [],
   "source": [
    "import pandas as pd\n",
    "import numpy as np\n",
    "import matplotlib.pyplot as plt\n",
    "import random"
   ]
  },
  {
   "cell_type": "markdown",
   "metadata": {
    "tags": []
   },
   "source": [
    "## Task1: Data pre-processing"
   ]
  },
  {
   "cell_type": "code",
   "execution_count": 32,
   "metadata": {
    "id": "OybR0FpqTKgX"
   },
   "outputs": [],
   "source": [
    "google_colab = False\n",
    "\n",
    "local_root = 'Project2-data'\n",
    "colab_root = '/content/drive/MyDrive/Colab Notebooks/Project2-data/'\n",
    "root = colab_root if google_colab else local_root\n",
    "\n",
    "# Load data\n",
    "users = pd.read_csv(f'{root}/users.txt', sep=' ', names=['user_id'], header=None)\n",
    "movies = pd.read_csv(f'{root}/movie_titles.txt', names=['movie_id', 'year', 'title'], header=None, on_bad_lines='skip')\n",
    "movie_ids = movies['movie_id']\n",
    "\n",
    "ratings_train = pd.read_csv(f'{root}/netflix_train.txt', sep=' ', names=['user_id', 'movie_id', 'rating', 'date'], header=None)\n",
    "ratings_test = pd.read_csv(f'{root}/netflix_test.txt', sep=' ', names=['user_id', 'movie_id', 'rating', 'date'], header=None)\n",
    "\n",
    "# Create matrix\n",
    "matrix = ratings_train.pivot(index='user_id', columns='movie_id', values='rating').fillna(0)\n",
    "\n",
    "# Convert to numpy matrix for computation\n",
    "vector_matrix = matrix.values"
   ]
  },
  {
   "cell_type": "code",
   "execution_count": 33,
   "metadata": {},
   "outputs": [],
   "source": [
    "# Map user and movie IDs to matrix indices\n",
    "user_id_to_index = {user_id: idx for idx, user_id in enumerate(matrix.index)}\n",
    "movie_id_to_index = {movie_id: idx for idx, movie_id in enumerate(matrix.columns)}"
   ]
  },
  {
   "cell_type": "markdown",
   "metadata": {
    "tags": []
   },
   "source": [
    "# Task2: Collaborative filtering"
   ]
  },
  {
   "cell_type": "code",
   "execution_count": 34,
   "metadata": {},
   "outputs": [],
   "source": [
    "def compute_user_similarities(matrix):\n",
    "    norm_matrix = np.linalg.norm(matrix, axis=1)\n",
    "    similarity_matrix = np.dot(matrix, matrix.T) / (norm_matrix[:, None] * norm_matrix)\n",
    "    \n",
    "    # Avoid division by zero\n",
    "    similarity_matrix[np.isnan(similarity_matrix)] = 0\n",
    "    return similarity_matrix"
   ]
  },
  {
   "cell_type": "code",
   "execution_count": 35,
   "metadata": {},
   "outputs": [],
   "source": [
    "def userCF(matrix, user_id, movie_id, similarity_matrix, filter_only_rated=True):\n",
    "    # Map user_id and movie_id to matrix indices\n",
    "    user_index = user_id_to_index.get(user_id, None)\n",
    "    movie_index = movie_id_to_index.get(movie_id, None)\n",
    "\n",
    "    user_ratings = matrix.iloc[user_index].to_numpy()\n",
    "\n",
    "    # Similar users to the target user\n",
    "    similarities = similarity_matrix[user_index]\n",
    "\n",
    "    # Only consider users who have rated the movie\n",
    "    if filter_only_rated:\n",
    "        rated_users = user_ratings != 0\n",
    "        similarities = similarities[rated_users]\n",
    "        user_ratings = user_ratings[rated_users]\n",
    "    \n",
    "    # Compute weighted sum of ratings for the movie\n",
    "    numerator = np.dot(similarities, user_ratings)\n",
    "    denominator = np.sum(np.abs(similarities))  # Sum of similarities\n",
    "\n",
    "    if denominator == 0:\n",
    "        return 0  # If no similar users, return 0 (or can return the average rating)\n",
    "    return numerator / denominator"
   ]
  },
  {
   "cell_type": "code",
   "execution_count": 36,
   "metadata": {},
   "outputs": [],
   "source": [
    "def userCF_rmse(similarity_matrix, matrix, ratings_test):\n",
    "    # Create a matrix for the predicted ratings\n",
    "    predicted_ratings = np.zeros_like(matrix.values)\n",
    "    \n",
    "    # Get the non-zero entries (rated items) in the test set\n",
    "    test_ratings = ratings_test[['user_id', 'movie_id', 'rating']]\n",
    "    \n",
    "    # Map user and movie IDs to matrix indices\n",
    "    user_index_test = test_ratings['user_id'].map(user_id_to_index)\n",
    "    movie_index_test = test_ratings['movie_id'].map(movie_id_to_index)\n",
    "    \n",
    "    # Filter out rows where user or movie is not found in the matrix\n",
    "    valid_test_ratings = test_ratings[~user_index_test.isna() & ~movie_index_test.isna()]\n",
    "    user_index_test = user_index_test[valid_test_ratings.index]\n",
    "    movie_index_test = movie_index_test[valid_test_ratings.index]\n",
    "    actual_ratings = valid_test_ratings['rating'].values\n",
    "    \n",
    "    # Get predicted ratings for test data\n",
    "    predicted_ratings = np.array([\n",
    "        userCF(matrix, user_id, movie_id, similarity_matrix, filter_only_rated=True)\n",
    "        for user_id, movie_id in zip(valid_test_ratings['user_id'], valid_test_ratings['movie_id'])\n",
    "    ])\n",
    "    \n",
    "    # Compute RMSE\n",
    "    rmse = np.sqrt(np.mean((predicted_ratings - actual_ratings) ** 2))\n",
    "    return rmse\n"
   ]
  },
  {
   "cell_type": "code",
   "execution_count": 37,
   "metadata": {},
   "outputs": [],
   "source": [
    "def compare_predictions(predictions=10, similarity_matrix=None):\n",
    "    print(f\"\\nPredicting {predictions} random values\")\n",
    "\n",
    "    for i in range(predictions):\n",
    "        actual_rating = 0\n",
    "\n",
    "        while(actual_rating == 0):\n",
    "            movie_index = random.randint(0, len(matrix.columns) - 1)\n",
    "            user_index = random.randint(0, len(matrix.index) - 1)\n",
    "            movie_id = matrix.columns[movie_index]\n",
    "            user_id = matrix.index[user_index]\n",
    "            actual_rating = matrix.iloc[user_index, movie_index]\n",
    "\n",
    "        predicted_rating = userCF(matrix, user_id, movie_id, similarity_matrix, filter_only_rated=True)\n",
    "        actual_rating = matrix.iloc[user_index, movie_index]\n",
    "        print(f\"user {user_id}, movie {movie_id}: {predicted_rating:.1f} (actual: {actual_rating:.1f})\")"
   ]
  },
  {
   "cell_type": "code",
   "execution_count": 38,
   "metadata": {
    "id": "NNjzhz7bTXsM"
   },
   "outputs": [
    {
     "name": "stdout",
     "output_type": "stream",
     "text": [
      "Computing user similarities\n",
      "Done computing similarities :) \n",
      "\n"
     ]
    }
   ],
   "source": [
    "print(\"Computing user similarities\")\n",
    "similarity_matrix = compute_user_similarities(matrix)\n",
    "print(\"Done computing similarities :) \\n\")"
   ]
  },
  {
   "cell_type": "code",
   "execution_count": 39,
   "metadata": {},
   "outputs": [
    {
     "name": "stdout",
     "output_type": "stream",
     "text": [
      "Computing RMSE\n",
      "Test RMSE: 0.9881447545647434\n"
     ]
    }
   ],
   "source": [
    "# Evaluate RMSE for a specific test set size\n",
    "print(\"Computing RMSE\")\n",
    "test_rmse = userCF_rmse(similarity_matrix=similarity_matrix, matrix=matrix, ratings_test=ratings_test)\n",
    "print(f\"Test RMSE: {test_rmse}\")"
   ]
  },
  {
   "cell_type": "code",
   "execution_count": 40,
   "metadata": {},
   "outputs": [
    {
     "name": "stdout",
     "output_type": "stream",
     "text": [
      "\n",
      "Predicting 10 random values\n",
      "user 2345454, movie 1661: 3.3 (actual: 3.0)\n",
      "user 1028463, movie 2068: 3.6 (actual: 5.0)\n",
      "user 1658098, movie 3463: 3.1 (actual: 3.0)\n",
      "user 743598, movie 2128: 2.3 (actual: 3.0)\n",
      "user 2578830, movie 6042: 3.2 (actual: 3.0)\n",
      "user 1886585, movie 7510: 3.1 (actual: 3.0)\n",
      "user 780253, movie 4577: 3.1 (actual: 2.0)\n",
      "user 1094019, movie 9189: 4.2 (actual: 5.0)\n",
      "user 1419139, movie 6196: 3.0 (actual: 2.0)\n",
      "user 981753, movie 438: 3.4 (actual: 3.0)\n"
     ]
    }
   ],
   "source": [
    "# We will now test 10 random values and see what is predicted\n",
    "compare_predictions(predictions=10, similarity_matrix=similarity_matrix)"
   ]
  },
  {
   "cell_type": "markdown",
   "metadata": {},
   "source": [
    "# Task3: Matrix Decomposition Algorithm"
   ]
  },
  {
   "cell_type": "code",
   "execution_count": 41,
   "metadata": {},
   "outputs": [],
   "source": [
    "def matrix_decomposition(X_train, X_test, k=50, lambda_=0.5, alpha=1e-3, max_iter=100, tolerance=1e-4):\n",
    "    print(\"Test\")"
   ]
  },
  {
   "cell_type": "code",
   "execution_count": 42,
   "metadata": {},
   "outputs": [],
   "source": [
    "def calculate_RMSE(X_pred, X_test):\n",
    "    print(\"Test\")"
   ]
  },
  {
   "cell_type": "code",
   "execution_count": 43,
   "metadata": {},
   "outputs": [],
   "source": [
    "def check_predictions(X_pred, X_test, n=5):\n",
    "     print(\"Test\")"
   ]
  },
  {
   "cell_type": "code",
   "execution_count": 44,
   "metadata": {
    "tags": []
   },
   "outputs": [
    {
     "name": "stdout",
     "output_type": "stream",
     "text": [
      "Computing matrix decomposition\n"
     ]
    }
   ],
   "source": [
    "print(\"Computing matrix decomposition\")"
   ]
  }
 ],
 "metadata": {
  "colab": {
   "provenance": []
  },
  "kernelspec": {
   "display_name": "Python 3",
   "language": "python",
   "name": "python3"
  },
  "language_info": {
   "codemirror_mode": {
    "name": "ipython",
    "version": 3
   },
   "file_extension": ".py",
   "mimetype": "text/x-python",
   "name": "python",
   "nbconvert_exporter": "python",
   "pygments_lexer": "ipython3",
   "version": "3.11.1"
  }
 },
 "nbformat": 4,
 "nbformat_minor": 4
}
